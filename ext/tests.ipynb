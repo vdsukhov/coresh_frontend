{
 "cells": [
  {
   "cell_type": "code",
   "execution_count": 1,
   "id": "130ab577-f6a8-42ea-8484-48a9e0c1ec2c",
   "metadata": {},
   "outputs": [],
   "source": [
    "import json"
   ]
  },
  {
   "cell_type": "code",
   "execution_count": 2,
   "id": "440f20a1-cb22-4f9d-99fb-06749fb9cba3",
   "metadata": {},
   "outputs": [],
   "source": [
    "with open(\"./result.json\") as inp_f:\n",
    "    js_data = json.load(inp_f)"
   ]
  },
  {
   "cell_type": "code",
   "execution_count": 5,
   "id": "85ab0c06-17d3-4f79-a0ab-207b5efe2e39",
   "metadata": {},
   "outputs": [],
   "source": [
    "fake_js = {'posts': [js_data]}\n",
    "with open(\"./dummy_data.json\", \"w\") as out_f:\n",
    "    json.dump(fake_js, out_f)"
   ]
  },
  {
   "cell_type": "code",
   "execution_count": null,
   "id": "0b7af0ff-7205-4c47-a50f-2e1490c009a1",
   "metadata": {},
   "outputs": [],
   "source": []
  }
 ],
 "metadata": {
  "kernelspec": {
   "display_name": "Python 3 (ipykernel)",
   "language": "python",
   "name": "python3"
  },
  "language_info": {
   "codemirror_mode": {
    "name": "ipython",
    "version": 3
   },
   "file_extension": ".py",
   "mimetype": "text/x-python",
   "name": "python",
   "nbconvert_exporter": "python",
   "pygments_lexer": "ipython3",
   "version": "3.10.10"
  }
 },
 "nbformat": 4,
 "nbformat_minor": 5
}
